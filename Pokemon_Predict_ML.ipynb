{
  "cells": [
    {
      "cell_type": "markdown",
      "metadata": {
        "colab_type": "text",
        "id": "view-in-github"
      },
      "source": [
        "<a href=\"https://colab.research.google.com/github/Benjamindavid03/Youtube/blob/main/Pokemon_Prediction.ipynb\" target=\"_parent\"><img src=\"https://colab.research.google.com/assets/colab-badge.svg\" alt=\"Open In Colab\"/></a>"
      ]
    },
    {
      "cell_type": "markdown",
      "metadata": {
        "id": "PgryAVt4zItk"
      },
      "source": [
        "# Predicting the Pokemon "
      ]
    },
    {
      "cell_type": "code",
      "execution_count": 22,
      "metadata": {
        "id": "iDmgw4M3zxCT"
      },
      "outputs": [],
      "source": [
        "# importing libraries\n",
        "import pandas as pd\n",
        "import numpy as np\n",
        "from sklearn.tree import DecisionTreeClassifier\n",
        "from IPython.display import Image, display, HTML"
      ]
    },
    {
      "cell_type": "markdown",
      "metadata": {
        "id": "fp5RMDnGzx16"
      },
      "source": [
        "# Import the Pokemon Data"
      ]
    },
    {
      "cell_type": "code",
      "execution_count": 28,
      "metadata": {
        "colab": {
          "base_uri": "https://localhost:8080/",
          "height": 424
        },
        "id": "L09h6HyyzJ9z",
        "outputId": "aea24a22-6fb5-46bf-bcad-466123f8a90a"
      },
      "outputs": [
        {
          "name": "stdout",
          "output_type": "stream",
          "text": [
            "Dataset shape: (1025, 14)\n",
            "Columns: ['id', 'name', 'height', 'weight', 'hp', 'attack', 'defense', 's_attack', 's_defense', 'speed', 'total', 'type', 'evo_set', 'info']\n"
          ]
        },
        {
          "data": {
            "text/html": [
              "<div>\n",
              "<style scoped>\n",
              "    .dataframe tbody tr th:only-of-type {\n",
              "        vertical-align: middle;\n",
              "    }\n",
              "\n",
              "    .dataframe tbody tr th {\n",
              "        vertical-align: top;\n",
              "    }\n",
              "\n",
              "    .dataframe thead th {\n",
              "        text-align: right;\n",
              "    }\n",
              "</style>\n",
              "<table border=\"1\" class=\"dataframe\">\n",
              "  <thead>\n",
              "    <tr style=\"text-align: right;\">\n",
              "      <th></th>\n",
              "      <th>id</th>\n",
              "      <th>name</th>\n",
              "      <th>height</th>\n",
              "      <th>weight</th>\n",
              "      <th>hp</th>\n",
              "      <th>attack</th>\n",
              "      <th>defense</th>\n",
              "      <th>s_attack</th>\n",
              "      <th>s_defense</th>\n",
              "      <th>speed</th>\n",
              "      <th>total</th>\n",
              "      <th>type</th>\n",
              "      <th>evo_set</th>\n",
              "      <th>info</th>\n",
              "    </tr>\n",
              "  </thead>\n",
              "  <tbody>\n",
              "    <tr>\n",
              "      <th>0</th>\n",
              "      <td>1</td>\n",
              "      <td>bulbasaur</td>\n",
              "      <td>7</td>\n",
              "      <td>69</td>\n",
              "      <td>45</td>\n",
              "      <td>49</td>\n",
              "      <td>49</td>\n",
              "      <td>65</td>\n",
              "      <td>65</td>\n",
              "      <td>45</td>\n",
              "      <td>318</td>\n",
              "      <td>{grass,poison}</td>\n",
              "      <td>1</td>\n",
              "      <td>A strange seed was planted on its back at birt...</td>\n",
              "    </tr>\n",
              "    <tr>\n",
              "      <th>1</th>\n",
              "      <td>2</td>\n",
              "      <td>ivysaur</td>\n",
              "      <td>10</td>\n",
              "      <td>130</td>\n",
              "      <td>60</td>\n",
              "      <td>62</td>\n",
              "      <td>63</td>\n",
              "      <td>80</td>\n",
              "      <td>80</td>\n",
              "      <td>60</td>\n",
              "      <td>405</td>\n",
              "      <td>{grass,poison}</td>\n",
              "      <td>1</td>\n",
              "      <td>When the bulb on its back grows large, it appe...</td>\n",
              "    </tr>\n",
              "    <tr>\n",
              "      <th>2</th>\n",
              "      <td>3</td>\n",
              "      <td>venusaur</td>\n",
              "      <td>20</td>\n",
              "      <td>1000</td>\n",
              "      <td>80</td>\n",
              "      <td>82</td>\n",
              "      <td>83</td>\n",
              "      <td>100</td>\n",
              "      <td>100</td>\n",
              "      <td>80</td>\n",
              "      <td>525</td>\n",
              "      <td>{grass,poison}</td>\n",
              "      <td>1</td>\n",
              "      <td>The plant blooms when it is absorbing solar en...</td>\n",
              "    </tr>\n",
              "    <tr>\n",
              "      <th>3</th>\n",
              "      <td>4</td>\n",
              "      <td>charmander</td>\n",
              "      <td>6</td>\n",
              "      <td>85</td>\n",
              "      <td>39</td>\n",
              "      <td>52</td>\n",
              "      <td>43</td>\n",
              "      <td>60</td>\n",
              "      <td>50</td>\n",
              "      <td>65</td>\n",
              "      <td>309</td>\n",
              "      <td>{fire}</td>\n",
              "      <td>2</td>\n",
              "      <td>Obviously prefers hot places. When it rains, s...</td>\n",
              "    </tr>\n",
              "    <tr>\n",
              "      <th>4</th>\n",
              "      <td>5</td>\n",
              "      <td>charmeleon</td>\n",
              "      <td>11</td>\n",
              "      <td>190</td>\n",
              "      <td>58</td>\n",
              "      <td>64</td>\n",
              "      <td>58</td>\n",
              "      <td>80</td>\n",
              "      <td>65</td>\n",
              "      <td>80</td>\n",
              "      <td>405</td>\n",
              "      <td>{fire}</td>\n",
              "      <td>2</td>\n",
              "      <td>When it swings its burning tail, it elevates t...</td>\n",
              "    </tr>\n",
              "  </tbody>\n",
              "</table>\n",
              "</div>"
            ],
            "text/plain": [
              "   id        name  height  weight  hp  attack  defense  s_attack  s_defense  \\\n",
              "0   1   bulbasaur       7      69  45      49       49        65         65   \n",
              "1   2     ivysaur      10     130  60      62       63        80         80   \n",
              "2   3    venusaur      20    1000  80      82       83       100        100   \n",
              "3   4  charmander       6      85  39      52       43        60         50   \n",
              "4   5  charmeleon      11     190  58      64       58        80         65   \n",
              "\n",
              "   speed  total            type evo_set  \\\n",
              "0     45    318  {grass,poison}       1   \n",
              "1     60    405  {grass,poison}       1   \n",
              "2     80    525  {grass,poison}       1   \n",
              "3     65    309          {fire}       2   \n",
              "4     80    405          {fire}       2   \n",
              "\n",
              "                                                info  \n",
              "0  A strange seed was planted on its back at birt...  \n",
              "1  When the bulb on its back grows large, it appe...  \n",
              "2  The plant blooms when it is absorbing solar en...  \n",
              "3  Obviously prefers hot places. When it rains, s...  \n",
              "4  When it swings its burning tail, it elevates t...  "
            ]
          },
          "execution_count": 28,
          "metadata": {},
          "output_type": "execute_result"
        }
      ],
      "source": [
        "# loading dataset\n",
        "nRowsRead = 1025 # specify 'None' if want to read whole file\n",
        "df1 = pd.read_csv('https://raw.githubusercontent.com/ndfernandez/pokemon_ml/refs/heads/main/pokedex_total.csv', delimiter=',', nrows = nRowsRead)\n",
        "print(\"Dataset shape:\", df1.shape)\n",
        "print(\"Columns:\", df1.columns.tolist())\n",
        "df1.head()"
      ]
    },
    {
      "cell_type": "markdown",
      "metadata": {
        "id": "GdFayg2czpWK"
      },
      "source": [
        "# Pre process the pokemon data to fit into a ML algorithm"
      ]
    },
    {
      "cell_type": "code",
      "execution_count": 29,
      "metadata": {
        "colab": {
          "base_uri": "https://localhost:8080/"
        },
        "id": "8xpJZ3TfzUHj",
        "outputId": "3f71c707-6df9-4cb4-ee68-8a5a5e5c39c1"
      },
      "outputs": [
        {
          "name": "stdout",
          "output_type": "stream",
          "text": [
            "Features shape: (1025, 8)\n",
            "Features data types:\n",
            "height       int64\n",
            "weight       int64\n",
            "hp           int64\n",
            "attack       int64\n",
            "defense      int64\n",
            "s_attack     int64\n",
            "s_defense    int64\n",
            "speed        int64\n",
            "dtype: object\n",
            "\n",
            "First few rows of features:\n",
            "   height  weight  hp  attack  defense  s_attack  s_defense  speed\n",
            "0       7      69  45      49       49        65         65     45\n",
            "1      10     130  60      62       63        80         80     60\n",
            "2      20    1000  80      82       83       100        100     80\n",
            "3       6      85  39      52       43        60         50     65\n",
            "4      11     190  58      64       58        80         65     80\n",
            "\n",
            "Converted X shape: (1025, 8)\n",
            "X data type: float64\n"
          ]
        }
      ],
      "source": [
        "# preparing the data - select only numeric features\n",
        "numeric_features = ['height', 'weight', 'hp', 'attack', 'defense', 's_attack', 's_defense', 'speed']\n",
        "X = df1[numeric_features].copy()  # features - only numeric columns\n",
        "y = df1['name']  # label\n",
        "\n",
        "print(\"Features shape:\", X.shape)\n",
        "print(\"Features data types:\")\n",
        "print(X.dtypes)\n",
        "print(\"\\nFirst few rows of features:\")\n",
        "print(X.head())\n",
        "\n",
        "# Convert to numpy array with proper data type\n",
        "X = X.values.astype(np.float64)\n",
        "print(\"\\nConverted X shape:\", X.shape)\n",
        "print(\"X data type:\", X.dtype)"
      ]
    },
    {
      "cell_type": "markdown",
      "metadata": {
        "id": "t_L5wdhTzliy"
      },
      "source": [
        "# Learn the features of the pokemon species"
      ]
    },
    {
      "cell_type": "code",
      "execution_count": 30,
      "metadata": {
        "colab": {
          "base_uri": "https://localhost:8080/"
        },
        "id": "3cN8YsQezgYD",
        "outputId": "a2239790-0554-4bd1-cad7-1f123be1a409"
      },
      "outputs": [
        {
          "name": "stderr",
          "output_type": "stream",
          "text": [
            "c:\\Users\\nelli\\AppData\\Local\\Programs\\Python\\Python313\\Lib\\site-packages\\sklearn\\utils\\multiclass.py:213: UserWarning: The number of unique classes is greater than 50% of the number of samples.\n",
            "  y_type = type_of_target(y, input_name=\"y\")\n"
          ]
        },
        {
          "name": "stdout",
          "output_type": "stream",
          "text": [
            "Model trained successfully!\n",
            "Feature names used: ['height', 'weight', 'hp', 'attack', 'defense', 's_attack', 's_defense', 'speed']\n"
          ]
        }
      ],
      "source": [
        "model = DecisionTreeClassifier(criterion='gini', random_state=42)\n",
        "model.fit(X, y)\n",
        "print(\"Model trained successfully!\")\n",
        "print(\"Feature names used:\", numeric_features)"
      ]
    },
    {
      "cell_type": "markdown",
      "metadata": {
        "id": "NFlF2WSCzjGj"
      },
      "source": [
        "# Predict a pokemon"
      ]
    },
    {
      "cell_type": "code",
      "execution_count": 36,
      "metadata": {
        "colab": {
          "base_uri": "https://localhost:8080/",
          "height": 53
        },
        "id": "wtgTMG5cziTD",
        "outputId": "302f0497-5db7-404f-9719-82d40a402fe8"
      },
      "outputs": [
        {
          "name": "stdout",
          "output_type": "stream",
          "text": [
            "Input stats (height, weight, hp, attack, defense, s_attack, s_defense, speed):\n",
            "[4, 60, 35, 55, 40, 50, 50, 90]\n",
            "\n",
            "The predicted pokemon is: pikachu\n",
            "\n",
            "Pokemon ID: 25\n",
            "Type: {electric}\n",
            "Image URL: https://assets.pokemon.com/assets/cms2/img/pokedex/full/025.png\n"
          ]
        },
        {
          "data": {
            "text/html": [
              "<img src=\"https://assets.pokemon.com/assets/cms2/img/pokedex/full/025.png\" alt=\"pikachu\" style=\"width:200px;\"/>"
            ],
            "text/plain": [
              "<IPython.core.display.HTML object>"
            ]
          },
          "metadata": {},
          "output_type": "display_data"
        }
      ],
      "source": [
        "# Input format: [height, weight, hp, attack, defense, s_attack, s_defense, speed]\n",
        "# Example: Magikarp-like stats\n",
        "#input_stats = [[5, 100, 45, 49, 49, 65, 65, 45]]\n",
        "#input_stats = [[7, 69, 45, 49, 49, 65, 65, 45]]\n",
        "#input_stats = [[9, 100, 20, 10, 55, 15, 20, 80]]\n",
        "input_stats = [[4, 60, 35, 55, 40, 50, 50, 90]]  # Example stats for a Pokemon\n",
        "y_pred = model.predict(input_stats)\n",
        "predicted_pokemon = y_pred[0]\n",
        "\n",
        "print(\"Input stats (height, weight, hp, attack, defense, s_attack, s_defense, speed):\")\n",
        "print(input_stats[0])\n",
        "print(f\"\\nThe predicted pokemon is: {predicted_pokemon}\")\n",
        "\n",
        "# Get the Pokemon ID for image display\n",
        "pokemon_id = df1[df1['name'] == predicted_pokemon]['id'].iloc[0]\n",
        "pokemon_type = df1[df1['name'] == predicted_pokemon]['type'].iloc[0]\n",
        "\n",
        "# Format the ID with leading zeros (3 digits)\n",
        "pokemon_id_formatted = f\"{pokemon_id:03d}\"\n",
        "\n",
        "# Display the Pokemon image\n",
        "image_url = f\"https://assets.pokemon.com/assets/cms2/img/pokedex/full/{pokemon_id_formatted}.png\"\n",
        "print(f\"\\nPokemon ID: {pokemon_id}\")\n",
        "print(f\"Type: {pokemon_type}\")\n",
        "print(f\"Image URL: {image_url}\")\n",
        "\n",
        "# Display the image\n",
        "display(HTML(f'<img src=\"{image_url}\" alt=\"{predicted_pokemon}\" style=\"width:200px;\"/>'))"
      ]
    },
    {
      "cell_type": "markdown",
      "metadata": {
        "id": "CJ4HLSYs0aOj"
      },
      "source": [
        "The model predicts the Pokemon based on its stats and displays the corresponding image dynamically!\n",
        "\n",
        "You can modify the input values to predict different Pokemon and see their images."
      ]
    }
  ],
  "metadata": {
    "colab": {
      "collapsed_sections": [],
      "include_colab_link": true,
      "name": "Pokemon_Prediction.ipynb",
      "provenance": []
    },
    "kernelspec": {
      "display_name": "Python 3",
      "name": "python3"
    },
    "language_info": {
      "codemirror_mode": {
        "name": "ipython",
        "version": 3
      },
      "file_extension": ".py",
      "mimetype": "text/x-python",
      "name": "python",
      "nbconvert_exporter": "python",
      "pygments_lexer": "ipython3",
      "version": "3.13.1"
    }
  },
  "nbformat": 4,
  "nbformat_minor": 0
}
